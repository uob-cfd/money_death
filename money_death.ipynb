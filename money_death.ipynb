{
 "cells": [
  {
   "cell_type": "markdown",
   "id": "cb6c4971",
   "metadata": {},
   "source": [
    "# Money and death\n",
    "\n",
    "\n",
    "\n",
    "We return to the death penalty."
   ]
  },
  {
   "cell_type": "code",
   "execution_count": null,
   "id": "7e2ae4b0",
   "metadata": {},
   "outputs": [],
   "source": [
    "# Array library.\n",
    "import numpy as np\n",
    "\n",
    "# Data frames library.\n",
    "import pandas as pd\n",
    "\n",
    "# Set up plotting\n",
    "import matplotlib.pyplot as plt\n",
    "%matplotlib inline\n",
    "plt.style.use('fivethirtyeight')"
   ]
  },
  {
   "cell_type": "code",
   "execution_count": null,
   "id": "43093573",
   "metadata": {},
   "outputs": [],
   "source": [
    "# Load the OKpy test library and tests.\n",
    "from client.api.notebook import Notebook\n",
    "ok = Notebook('money_death.ok')"
   ]
  },
  {
   "cell_type": "markdown",
   "id": "6236a83f",
   "metadata": {},
   "source": [
    "In this case, we are going to analyze whether people with higher incomes are\n",
    "more likely to favor the death penalty.\n",
    "\n",
    "To do this, we are going to analyze the results from a sample of the US\n",
    "[General Social Survey](http://www.gss.norc.org) from 2002.\n",
    "\n",
    "Make sure you have the data file [GSS2002.csv](https://uob-ds.github.io/cfd2023/data/GSS2002.csv) in the same directory as this notebook.  This should be true if you unpacked the exercise zip file."
   ]
  },
  {
   "cell_type": "code",
   "execution_count": null,
   "id": "bdd3d053",
   "metadata": {},
   "outputs": [],
   "source": [
    "# Read the data into a data frame\n",
    "gss = pd.read_csv('GSS2002.csv')\n",
    "# Show the first 5 rows.\n",
    "gss.head()"
   ]
  },
  {
   "cell_type": "markdown",
   "id": "20516c30",
   "metadata": {},
   "source": [
    "Each row corresponds to a single respondent.\n",
    "\n",
    "Show the column names:"
   ]
  },
  {
   "cell_type": "code",
   "execution_count": null,
   "id": "71a2eb0f",
   "metadata": {},
   "outputs": [],
   "source": [
    "gss.columns"
   ]
  },
  {
   "cell_type": "markdown",
   "id": "87dda4bf",
   "metadata": {},
   "source": [
    "We want to work with only two columns from this data frame.  These are\n",
    "\"Income\", and \"DeathPenalty\".\n",
    "\n",
    "\"Income\" gives the income bracket of the respondent.  \"DeathPenalty\" is the\n",
    "answer to a question about whether they \"Favor\" or \"Oppose\" the death penalty.\n",
    "\n",
    "Start by making a data frame `money_death` that only has the columns \"Income\" and \"DeathPenalty\" from `gss`.\n",
    "\n",
    "**Hint**: make a new empty data frame called `money_death`.  Get the columns\n",
    "\"Income\" and \"DeathPenalty\" from the `gss` data frame, and insert them into\n",
    "`money_death`.  See the [data frames, series, arrays page](https://uob-ds.github.io/cfd2023/data-frames/df_series_arrays)."
   ]
  },
  {
   "cell_type": "code",
   "execution_count": null,
   "id": "71f9fd07",
   "metadata": {},
   "outputs": [],
   "source": [
    "money_death = ...\n",
    "money_death.head()"
   ]
  },
  {
   "cell_type": "code",
   "execution_count": null,
   "id": "a02a140f",
   "metadata": {},
   "outputs": [],
   "source": [
    "_ = ok.grade('q_1_money_death')"
   ]
  },
  {
   "cell_type": "markdown",
   "id": "b76532d4",
   "metadata": {},
   "source": [
    "There are many missing question responses, indicated by `NaN`.  To make our\n",
    "life easier, we drop the respondents who didn't specify an income bracket, and\n",
    "those who did not give an answer to the death penalty question.  Pandas\n",
    "`dropna` method of the data frame does this job. It drops all rows that have\n",
    "any missing values in the row.  Check the help for the `money_death.dropna`\n",
    "method with `money_death.dropna?` in a new cell."
   ]
  },
  {
   "cell_type": "code",
   "execution_count": null,
   "id": "934b60e0",
   "metadata": {},
   "outputs": [],
   "source": [
    "complete_md = ...\n",
    "complete_md.head()"
   ]
  },
  {
   "cell_type": "code",
   "execution_count": null,
   "id": "56d9dacf",
   "metadata": {
    "lines_to_next_cell": 2
   },
   "outputs": [],
   "source": [
    "_ = ok.grade('q_2_complete_md')"
   ]
  },
  {
   "cell_type": "markdown",
   "id": "4b1262e3",
   "metadata": {},
   "source": [
    "Put the income column of `complete_md` into its own variable:"
   ]
  },
  {
   "cell_type": "code",
   "execution_count": null,
   "id": "fdf19723",
   "metadata": {},
   "outputs": [],
   "source": [
    "income = ...\n",
    "income.head()"
   ]
  },
  {
   "cell_type": "code",
   "execution_count": null,
   "id": "f598f39d",
   "metadata": {
    "lines_to_next_cell": 2
   },
   "outputs": [],
   "source": [
    "_ = ok.grade('q_3_income')"
   ]
  },
  {
   "cell_type": "markdown",
   "id": "808f435c",
   "metadata": {},
   "source": [
    "Use the `value_counts` method of the `income` Series to show the unique values and their counts."
   ]
  },
  {
   "cell_type": "code",
   "execution_count": null,
   "id": "6f9518d2",
   "metadata": {},
   "outputs": [],
   "source": [
    "income.value_counts()"
   ]
  },
  {
   "cell_type": "markdown",
   "id": "308ff89b",
   "metadata": {},
   "source": [
    "The elements in this series are strings.  We want to get income as a number.\n",
    "We estimate this by *recoding* the \"Income\" column.  We replace the string,\n",
    "giving the income bracket, with the average of the minimum and maximum in the\n",
    "range.\n",
    "\n",
    "We can do this with a *recoder function*.  We have not covered writing your own\n",
    "functions yet, so do not worry about the details of this function."
   ]
  },
  {
   "cell_type": "code",
   "execution_count": null,
   "id": "2cafd6dc",
   "metadata": {},
   "outputs": [],
   "source": [
    "# Just run this cell\n",
    "def recode_income(value):\n",
    "    if value == 'under 1000':\n",
    "        return 500\n",
    "    low_str, high_str = value.split('-')\n",
    "    low, high = int(low_str), int(high_str)\n",
    "    return np.mean([low, high])"
   ]
  },
  {
   "cell_type": "markdown",
   "id": "02db5f89",
   "metadata": {},
   "source": [
    "Here is what the recoder function gives with the lowest income bracket."
   ]
  },
  {
   "cell_type": "code",
   "execution_count": null,
   "id": "ff775504",
   "metadata": {},
   "outputs": [],
   "source": [
    "recode_income('under 1000')"
   ]
  },
  {
   "cell_type": "markdown",
   "id": "3de0833f",
   "metadata": {},
   "source": [
    "Here is what it gives for a higher bracket:"
   ]
  },
  {
   "cell_type": "code",
   "execution_count": null,
   "id": "a089c0bd",
   "metadata": {},
   "outputs": [],
   "source": [
    "recode_income('90000-109999')"
   ]
  },
  {
   "cell_type": "markdown",
   "id": "4224e31b",
   "metadata": {},
   "source": [
    "The cell below uses this function to recode the \"Income\" strings into numbers.\n",
    "Again, we have not covered the `apply` method yet, so don't worry about the\n",
    "details."
   ]
  },
  {
   "cell_type": "code",
   "execution_count": null,
   "id": "7672145c",
   "metadata": {},
   "outputs": [],
   "source": [
    "# Run this cell.\n",
    "income_ish = income.apply(recode_income)\n",
    "income_ish.head()"
   ]
  },
  {
   "cell_type": "code",
   "execution_count": null,
   "id": "16faabb2",
   "metadata": {},
   "outputs": [],
   "source": [
    "# This test makes sure you've run the cells above correctly.\n",
    "_ = ok.grade('q_4_income_ish')"
   ]
  },
  {
   "cell_type": "markdown",
   "id": "aa49d04a",
   "metadata": {},
   "source": [
    "Next put the column containing the answers to the death penalty question into\n",
    "its own variable `death`:"
   ]
  },
  {
   "cell_type": "code",
   "execution_count": null,
   "id": "7f7b41ee",
   "metadata": {},
   "outputs": [],
   "source": [
    "death = ...\n",
    "# Show the unique values with their counts.\n",
    "death.value_counts()"
   ]
  },
  {
   "cell_type": "code",
   "execution_count": null,
   "id": "0a69db2f",
   "metadata": {},
   "outputs": [],
   "source": [
    "_ = ok.grade('q_5_death')"
   ]
  },
  {
   "cell_type": "markdown",
   "id": "d40c3af4",
   "metadata": {},
   "source": [
    "In the next few cells, you make two new Pandas Series.  One, `favor_income`,\n",
    "contains the recoded income values `income_ish` corresponding to respondents\n",
    "who have a `death` value of `Favor`.\n",
    "\n",
    "The other, `oppose_income`, has the recoded income values corresponding to those with `Oppose` values in `death`.\n",
    "\n",
    "**Hint** - as ever, make a Boolean series of True / False values corresponding\n",
    "to rows you want.  Use that series to select the rows from `income_ish`."
   ]
  },
  {
   "cell_type": "code",
   "execution_count": null,
   "id": "eefb095d",
   "metadata": {},
   "outputs": [],
   "source": [
    "favor_income = ...\n",
    "# Show a histogram of the in-favor income values.\n",
    "favor_income.hist();"
   ]
  },
  {
   "cell_type": "code",
   "execution_count": null,
   "id": "6dedb255",
   "metadata": {
    "lines_to_next_cell": 2
   },
   "outputs": [],
   "source": [
    "_ = ok.grade('q_6_favor_income')"
   ]
  },
  {
   "cell_type": "markdown",
   "id": "da1ccffc",
   "metadata": {},
   "source": [
    "Likewise select incomes for those opposed.   Show the distribution."
   ]
  },
  {
   "cell_type": "code",
   "execution_count": null,
   "id": "bcea3cdd",
   "metadata": {},
   "outputs": [],
   "source": [
    "oppose_income = ...\n",
    "# Show a histogram of the oppose income values.\n",
    "oppose_income.hist();"
   ]
  },
  {
   "cell_type": "code",
   "execution_count": null,
   "id": "17ab7217",
   "metadata": {},
   "outputs": [],
   "source": [
    "_ = ok.grade('q_7_oppose_income')"
   ]
  },
  {
   "cell_type": "markdown",
   "id": "359099aa",
   "metadata": {},
   "source": [
    "Calculate the difference in mean income between the groups.  This is the\n",
    "difference we observe."
   ]
  },
  {
   "cell_type": "code",
   "execution_count": null,
   "id": "dd0ac45f",
   "metadata": {},
   "outputs": [],
   "source": [
    "actual_diff = ...\n",
    "actual_diff"
   ]
  },
  {
   "cell_type": "code",
   "execution_count": null,
   "id": "b537d919",
   "metadata": {},
   "outputs": [],
   "source": [
    "_ = ok.grade('q_8_actual_diff')"
   ]
  },
  {
   "cell_type": "markdown",
   "id": "0e3a2b36",
   "metadata": {},
   "source": [
    "We want to know whether this difference in income is compatible with random\n",
    "sampling. That is, we want to know whether a difference this large is\n",
    "plausible, if the incomes are in fact random samples from the same population.\n",
    "\n",
    "To estimate how variable the mean differences can be, for such random sampling,\n",
    "we simulate this sampling by pooling the income values that we have, from the\n",
    "two groups, and the permuting them.\n",
    "\n",
    "First, we get the number of respondents in favor of the death penalty."
   ]
  },
  {
   "cell_type": "code",
   "execution_count": null,
   "id": "756fd82c",
   "metadata": {},
   "outputs": [],
   "source": [
    "n_favor = ...\n",
    "n_favor"
   ]
  },
  {
   "cell_type": "code",
   "execution_count": null,
   "id": "6194696d",
   "metadata": {
    "lines_to_next_cell": 2
   },
   "outputs": [],
   "source": [
    "_ = ok.grade('q_9_n_favor')"
   ]
  },
  {
   "cell_type": "markdown",
   "id": "271a2f15",
   "metadata": {},
   "source": [
    "Then we pool the income values for the in-favor and oppose groups."
   ]
  },
  {
   "cell_type": "code",
   "execution_count": null,
   "id": "2fe8a780",
   "metadata": {},
   "outputs": [],
   "source": [
    "# Concatenate the in-favor and opposed incomes.\n",
    "pooled = np.append(favor_income, oppose_income)\n",
    "# Show the first 10 values before shuffling.\n",
    "pooled[:10]"
   ]
  },
  {
   "cell_type": "markdown",
   "id": "56ccabb1",
   "metadata": {},
   "source": [
    "To do the random sampling we permute the values, so the `pooled` vector is a\n",
    "random mixture of the two groups."
   ]
  },
  {
   "cell_type": "code",
   "execution_count": null,
   "id": "3534b433",
   "metadata": {},
   "outputs": [],
   "source": [
    "shuffled = np.random.permutation(pooled)\n",
    "# Show the first 10 values after shuffling.\n",
    "shuffled[:10]"
   ]
  },
  {
   "cell_type": "markdown",
   "id": "16041cba",
   "metadata": {},
   "source": [
    "Treat the first `n_favor` observations from this shuffled vector as our\n",
    "simulated in-favor group.  The rest are our simulated oppose\n",
    "group."
   ]
  },
  {
   "cell_type": "code",
   "execution_count": null,
   "id": "c4761d0d",
   "metadata": {},
   "outputs": [],
   "source": [
    "fake_favor = shuffled[:n_favor]\n",
    "fake_oppose = shuffled[n_favor:]"
   ]
  },
  {
   "cell_type": "markdown",
   "id": "9d9fff31",
   "metadata": {},
   "source": [
    "Calculate the difference in means for this simulation."
   ]
  },
  {
   "cell_type": "code",
   "execution_count": null,
   "id": "321f5bd3",
   "metadata": {},
   "outputs": [],
   "source": [
    "fake_diff = np.mean(fake_favor) - np.mean(fake_oppose)\n",
    "fake_diff"
   ]
  },
  {
   "cell_type": "markdown",
   "id": "d234b78e",
   "metadata": {},
   "source": [
    "Now it is your turn.   Do this simulation 10000 times, to build up the\n",
    "distribution of differences compatible with random sampling."
   ]
  },
  {
   "cell_type": "code",
   "execution_count": null,
   "id": "87cd40b8",
   "metadata": {},
   "outputs": [],
   "source": [
    "fake_differences = ...\n",
    "for i in np.arange(10000):\n",
    "    #- Permute the pooled incomes\n",
    "    shuffled = np.random.permutation(pooled)\n",
    "    #- Make a fake favor sample\n",
    "   fake_favor = ...\n",
    "    #- Make a fake opposed sample\n",
    "   fake_oppose = ...\n",
    "    #- Calculate the mean difference for the fake samples\n",
    "   fake_diff = ...\n",
    "    #- Put the mean difference into the fake_differences array.\n",
    "   fake_differences...\n",
    "# Show the first 10 fake differences\n",
    "fake_differences[:10]"
   ]
  },
  {
   "cell_type": "code",
   "execution_count": null,
   "id": "4cf32605",
   "metadata": {},
   "outputs": [],
   "source": [
    "_ = ok.grade('q_10_fake_differences')"
   ]
  },
  {
   "cell_type": "markdown",
   "id": "b16d6f6a",
   "metadata": {},
   "source": [
    "When you have that working, do a histogram of the differences."
   ]
  },
  {
   "cell_type": "code",
   "execution_count": null,
   "id": "84a20af8",
   "metadata": {},
   "outputs": [],
   "source": [
    "plt.hist(fake_differences)"
   ]
  },
  {
   "cell_type": "markdown",
   "id": "a1005041",
   "metadata": {},
   "source": [
    "You can get an idea of where the actual difference we saw sits on this\n",
    "histogram, and therefore how likely that difference is, assuming the incomes\n",
    "come from the same underlying population of incomes.\n",
    "\n",
    "To be more specific, show the proportion of the differences you calculated that\n",
    "were greater than or equal to the actual difference."
   ]
  },
  {
   "cell_type": "code",
   "execution_count": null,
   "id": "609935ed",
   "metadata": {},
   "outputs": [],
   "source": [
    "p_fake_ge_actual = ...\n",
    "p_fake_ge_actual"
   ]
  },
  {
   "cell_type": "code",
   "execution_count": null,
   "id": "b8ae6aec",
   "metadata": {},
   "outputs": [],
   "source": [
    "_ = ok.grade('q_11_p_fake_ge_actual')"
   ]
  },
  {
   "cell_type": "markdown",
   "id": "858d40ce",
   "metadata": {},
   "source": [
    "This proportion gives an estimate of the probability of seeing a difference\n",
    "this large, if the incomes all come from the same underlying population."
   ]
  },
  {
   "cell_type": "markdown",
   "id": "62f57e71",
   "metadata": {},
   "source": [
    "## Done"
   ]
  },
  {
   "cell_type": "code",
   "execution_count": null,
   "id": "28b887ac",
   "metadata": {},
   "outputs": [],
   "source": [
    "# For your convenience, you can run this cell to run all the tests at once!\n",
    "import os\n",
    "_ = [ok.grade(q[:-3]) for q in os.listdir(\"tests\") if q.startswith('q')]"
   ]
  }
 ],
 "metadata": {
  "jupytext": {
   "split_at_heading": true,
   "text_representation": {
    "extension": ".Rmd",
    "format_name": "rmarkdown",
    "format_version": "1.1",
    "jupytext_version": "1.2.4"
   }
  },
  "kernelspec": {
   "display_name": "Python 3",
   "language": "python",
   "name": "python3"
  }
 },
 "nbformat": 4,
 "nbformat_minor": 5
}
